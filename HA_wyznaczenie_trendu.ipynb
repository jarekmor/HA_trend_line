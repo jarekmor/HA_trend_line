{
 "cells": [
  {
   "cell_type": "markdown",
   "id": "157ca61c",
   "metadata": {},
   "source": [
    "## 1) Środowisko wirtualne python-venv"
   ]
  },
  {
   "cell_type": "code",
   "execution_count": 1,
   "id": "d32e4693",
   "metadata": {},
   "outputs": [],
   "source": [
    "# python3 -m venv ha_influxdb_venv\n",
    "# source ha_influxdb_venv/bin/activate\n",
    "# pip install --upgrade pip\n",
    "# pip install influxdb\n",
    "# pip install pandas\n",
    "# pip install matplotlib\n",
    "# pip install jupyter\n",
    "# jupyter notebook"
   ]
  },
  {
   "cell_type": "markdown",
   "id": "b1b996ef",
   "metadata": {},
   "source": [
    "## 2) Import bibliotek"
   ]
  },
  {
   "cell_type": "code",
   "execution_count": 2,
   "id": "134952eb",
   "metadata": {},
   "outputs": [],
   "source": [
    "from influxdb import DataFrameClient\n",
    "\n",
    "import pandas as pd\n",
    "import numpy as np\n",
    "from datetime import datetime\n",
    "\n",
    "%matplotlib inline\n",
    "import matplotlib\n",
    "import matplotlib.pyplot as plt"
   ]
  },
  {
   "cell_type": "markdown",
   "id": "a89ad57a",
   "metadata": {},
   "source": [
    "## 3) Połączenie do bazy InfluxDB"
   ]
  },
  {
   "cell_type": "code",
   "execution_count": 3,
   "id": "5274f55c",
   "metadata": {},
   "outputs": [],
   "source": [
    "client = DataFrameClient(host='192.168.1.5', port=8086, username='jupyterlab', password='jupyterlab', database='homeassistant')"
   ]
  },
  {
   "cell_type": "code",
   "execution_count": 4,
   "id": "e5e6d833",
   "metadata": {},
   "outputs": [
    {
     "data": {
      "text/plain": [
       "'1.8.10'"
      ]
     },
     "execution_count": 4,
     "metadata": {},
     "output_type": "execute_result"
    }
   ],
   "source": [
    "client.ping()"
   ]
  },
  {
   "cell_type": "markdown",
   "id": "c7c0d2b7",
   "metadata": {},
   "source": [
    "## 4) Pobranie jednostek miar z bazy"
   ]
  },
  {
   "cell_type": "code",
   "execution_count": 5,
   "id": "e89c00bf",
   "metadata": {},
   "outputs": [
    {
     "data": {
      "text/plain": [
       "[{'name': ' '},\n",
       " {'name': '%'},\n",
       " {'name': '% available'},\n",
       " {'name': 'A'},\n",
       " {'name': 'B'},\n",
       " {'name': 'CAQI'},\n",
       " {'name': 'Connections'},\n",
       " {'name': 'Cos φ'},\n",
       " {'name': 'GB'},\n",
       " {'name': 'GHz'},\n",
       " {'name': 'GiB'},\n",
       " {'name': 'KiB/s'},\n",
       " {'name': 'MB'},\n",
       " {'name': 'Mb/s'},\n",
       " {'name': 'MiB'},\n",
       " {'name': 'PLN'},\n",
       " {'name': 'V'},\n",
       " {'name': 'VA'},\n",
       " {'name': 'VAr'},\n",
       " {'name': 'W'},\n",
       " {'name': '[GWh]'},\n",
       " {'name': 'cm'},\n",
       " {'name': 'dBm'},\n",
       " {'name': 'floors'},\n",
       " {'name': 'fps'},\n",
       " {'name': 'gCO2eq/kWh'},\n",
       " {'name': 'h'},\n",
       " {'name': 'hPa'},\n",
       " {'name': 'hPa/h'},\n",
       " {'name': 'kB'},\n",
       " {'name': 'kWh'},\n",
       " {'name': 'lqi'},\n",
       " {'name': 'lx'},\n",
       " {'name': 'm'},\n",
       " {'name': 'm/s'},\n",
       " {'name': 'ms'},\n",
       " {'name': 'm³'},\n",
       " {'name': 'objects'},\n",
       " {'name': 'packets'},\n",
       " {'name': 'packets/s'},\n",
       " {'name': 'pending update(s)'},\n",
       " {'name': 'queries'},\n",
       " {'name': 'requests'},\n",
       " {'name': 's'},\n",
       " {'name': 'state'},\n",
       " {'name': 'steps'},\n",
       " {'name': 'targets'},\n",
       " {'name': '°C'},\n",
       " {'name': '°C/h'},\n",
       " {'name': 'µGHz/s'},\n",
       " {'name': 'µg/m³'},\n",
       " {'name': '℃'}]"
      ]
     },
     "execution_count": 5,
     "metadata": {},
     "output_type": "execute_result"
    }
   ],
   "source": [
    "client.get_list_measurements()"
   ]
  },
  {
   "cell_type": "markdown",
   "id": "d38d0897",
   "metadata": {},
   "source": [
    "## 5) Lista encji HA"
   ]
  },
  {
   "cell_type": "code",
   "execution_count": 84,
   "id": "6cd29550",
   "metadata": {},
   "outputs": [],
   "source": [
    "client.get_list_series()"
   ]
  },
  {
   "cell_type": "markdown",
   "id": "148ae618",
   "metadata": {},
   "source": [
    "## 6) Query do bazy"
   ]
  },
  {
   "cell_type": "markdown",
   "id": "addde0b8",
   "metadata": {},
   "source": [
    "### 6.1) query #1: pobranie wszystkich encji HA z bazy InfluxDB dla np. pomiarów w \"°C\""
   ]
  },
  {
   "cell_type": "code",
   "execution_count": 6,
   "id": "c12d3c10",
   "metadata": {},
   "outputs": [],
   "source": [
    "results = client.query('SELECT * FROM \"°C\" ')"
   ]
  },
  {
   "cell_type": "code",
   "execution_count": 7,
   "id": "56d46f69",
   "metadata": {},
   "outputs": [
    {
     "data": {
      "text/html": [
       "<div>\n",
       "<style scoped>\n",
       "    .dataframe tbody tr th:only-of-type {\n",
       "        vertical-align: middle;\n",
       "    }\n",
       "\n",
       "    .dataframe tbody tr th {\n",
       "        vertical-align: top;\n",
       "    }\n",
       "\n",
       "    .dataframe thead th {\n",
       "        text-align: right;\n",
       "    }\n",
       "</style>\n",
       "<table border=\"1\" class=\"dataframe\">\n",
       "  <thead>\n",
       "    <tr style=\"text-align: right;\">\n",
       "      <th></th>\n",
       "      <th>index</th>\n",
       "      <th>attribution_str</th>\n",
       "      <th>device_class_str</th>\n",
       "      <th>domain</th>\n",
       "      <th>entity_id</th>\n",
       "      <th>friendly_name_str</th>\n",
       "      <th>state_class_str</th>\n",
       "      <th>value</th>\n",
       "    </tr>\n",
       "  </thead>\n",
       "  <tbody>\n",
       "    <tr>\n",
       "      <th>0</th>\n",
       "      <td>2021-11-01 00:00:11.973617+00:00</td>\n",
       "      <td>None</td>\n",
       "      <td>temperature</td>\n",
       "      <td>sensor</td>\n",
       "      <td>processor_temperature</td>\n",
       "      <td>Processor temperature</td>\n",
       "      <td>total</td>\n",
       "      <td>36.00</td>\n",
       "    </tr>\n",
       "    <tr>\n",
       "      <th>1</th>\n",
       "      <td>2021-11-01 00:00:26.975167+00:00</td>\n",
       "      <td>None</td>\n",
       "      <td>temperature</td>\n",
       "      <td>sensor</td>\n",
       "      <td>processor_temperature</td>\n",
       "      <td>Processor temperature</td>\n",
       "      <td>total</td>\n",
       "      <td>35.00</td>\n",
       "    </tr>\n",
       "    <tr>\n",
       "      <th>2</th>\n",
       "      <td>2021-11-01 00:00:41.977120+00:00</td>\n",
       "      <td>None</td>\n",
       "      <td>temperature</td>\n",
       "      <td>sensor</td>\n",
       "      <td>processor_temperature</td>\n",
       "      <td>Processor temperature</td>\n",
       "      <td>total</td>\n",
       "      <td>34.00</td>\n",
       "    </tr>\n",
       "    <tr>\n",
       "      <th>3</th>\n",
       "      <td>2021-11-01 00:00:42.620802+00:00</td>\n",
       "      <td>None</td>\n",
       "      <td>temperature</td>\n",
       "      <td>sensor</td>\n",
       "      <td>xiaomi_salon_temperature</td>\n",
       "      <td>Salon Temp</td>\n",
       "      <td>measurement</td>\n",
       "      <td>21.10</td>\n",
       "    </tr>\n",
       "    <tr>\n",
       "      <th>4</th>\n",
       "      <td>2021-11-01 00:00:42.627261+00:00</td>\n",
       "      <td>None</td>\n",
       "      <td>None</td>\n",
       "      <td>sensor</td>\n",
       "      <td>dew_point</td>\n",
       "      <td>dew point</td>\n",
       "      <td>None</td>\n",
       "      <td>8.99</td>\n",
       "    </tr>\n",
       "    <tr>\n",
       "      <th>...</th>\n",
       "      <td>...</td>\n",
       "      <td>...</td>\n",
       "      <td>...</td>\n",
       "      <td>...</td>\n",
       "      <td>...</td>\n",
       "      <td>...</td>\n",
       "      <td>...</td>\n",
       "      <td>...</td>\n",
       "    </tr>\n",
       "    <tr>\n",
       "      <th>4206344</th>\n",
       "      <td>2022-09-14 13:38:46.691491+00:00</td>\n",
       "      <td>None</td>\n",
       "      <td>temperature</td>\n",
       "      <td>sensor</td>\n",
       "      <td>xiaomi_salon_temperature_2</td>\n",
       "      <td>Xiaomi_Salon Temperature</td>\n",
       "      <td>measurement</td>\n",
       "      <td>21.20</td>\n",
       "    </tr>\n",
       "    <tr>\n",
       "      <th>4206345</th>\n",
       "      <td>2022-09-14 13:38:49.174145+00:00</td>\n",
       "      <td>None</td>\n",
       "      <td>temperature</td>\n",
       "      <td>sensor</td>\n",
       "      <td>processor_temperature</td>\n",
       "      <td>Processor temperature</td>\n",
       "      <td>measurement</td>\n",
       "      <td>41.00</td>\n",
       "    </tr>\n",
       "    <tr>\n",
       "      <th>4206346</th>\n",
       "      <td>2022-09-14 13:38:54.663801+00:00</td>\n",
       "      <td>None</td>\n",
       "      <td>temperature</td>\n",
       "      <td>sensor</td>\n",
       "      <td>xiaomi_salon_temperature</td>\n",
       "      <td>Salon TEMP</td>\n",
       "      <td>measurement</td>\n",
       "      <td>21.30</td>\n",
       "    </tr>\n",
       "    <tr>\n",
       "      <th>4206347</th>\n",
       "      <td>2022-09-14 13:38:54.666423+00:00</td>\n",
       "      <td>None</td>\n",
       "      <td>None</td>\n",
       "      <td>sensor</td>\n",
       "      <td>dew_point</td>\n",
       "      <td>dew point</td>\n",
       "      <td>None</td>\n",
       "      <td>14.64</td>\n",
       "    </tr>\n",
       "    <tr>\n",
       "      <th>4206348</th>\n",
       "      <td>2022-09-14 13:38:54.673223+00:00</td>\n",
       "      <td>None</td>\n",
       "      <td>temperature</td>\n",
       "      <td>sensor</td>\n",
       "      <td>xiaomi_salon_temperature_2</td>\n",
       "      <td>Xiaomi_Salon Temperature</td>\n",
       "      <td>measurement</td>\n",
       "      <td>21.30</td>\n",
       "    </tr>\n",
       "  </tbody>\n",
       "</table>\n",
       "<p>4206349 rows × 8 columns</p>\n",
       "</div>"
      ],
      "text/plain": [
       "                                   index attribution_str device_class_str  \\\n",
       "0       2021-11-01 00:00:11.973617+00:00            None      temperature   \n",
       "1       2021-11-01 00:00:26.975167+00:00            None      temperature   \n",
       "2       2021-11-01 00:00:41.977120+00:00            None      temperature   \n",
       "3       2021-11-01 00:00:42.620802+00:00            None      temperature   \n",
       "4       2021-11-01 00:00:42.627261+00:00            None             None   \n",
       "...                                  ...             ...              ...   \n",
       "4206344 2022-09-14 13:38:46.691491+00:00            None      temperature   \n",
       "4206345 2022-09-14 13:38:49.174145+00:00            None      temperature   \n",
       "4206346 2022-09-14 13:38:54.663801+00:00            None      temperature   \n",
       "4206347 2022-09-14 13:38:54.666423+00:00            None             None   \n",
       "4206348 2022-09-14 13:38:54.673223+00:00            None      temperature   \n",
       "\n",
       "         domain                   entity_id         friendly_name_str  \\\n",
       "0        sensor       processor_temperature     Processor temperature   \n",
       "1        sensor       processor_temperature     Processor temperature   \n",
       "2        sensor       processor_temperature     Processor temperature   \n",
       "3        sensor    xiaomi_salon_temperature                Salon Temp   \n",
       "4        sensor                   dew_point                 dew point   \n",
       "...         ...                         ...                       ...   \n",
       "4206344  sensor  xiaomi_salon_temperature_2  Xiaomi_Salon Temperature   \n",
       "4206345  sensor       processor_temperature     Processor temperature   \n",
       "4206346  sensor    xiaomi_salon_temperature                Salon TEMP   \n",
       "4206347  sensor                   dew_point                 dew point   \n",
       "4206348  sensor  xiaomi_salon_temperature_2  Xiaomi_Salon Temperature   \n",
       "\n",
       "        state_class_str  value  \n",
       "0                 total  36.00  \n",
       "1                 total  35.00  \n",
       "2                 total  34.00  \n",
       "3           measurement  21.10  \n",
       "4                  None   8.99  \n",
       "...                 ...    ...  \n",
       "4206344     measurement  21.20  \n",
       "4206345     measurement  41.00  \n",
       "4206346     measurement  21.30  \n",
       "4206347            None  14.64  \n",
       "4206348     measurement  21.30  \n",
       "\n",
       "[4206349 rows x 8 columns]"
      ]
     },
     "execution_count": 7,
     "metadata": {},
     "output_type": "execute_result"
    }
   ],
   "source": [
    "results = results[\"°C\"]\n",
    "results = results.reset_index()\n",
    "results"
   ]
  },
  {
   "cell_type": "markdown",
   "id": "d243b9b1",
   "metadata": {},
   "source": [
    "### 6.2) query #2: wszystkie encje HA dla \"°C\" z ostatnich 30 dni"
   ]
  },
  {
   "cell_type": "code",
   "execution_count": 8,
   "id": "f2c9612e",
   "metadata": {},
   "outputs": [
    {
     "data": {
      "text/html": [
       "<div>\n",
       "<style scoped>\n",
       "    .dataframe tbody tr th:only-of-type {\n",
       "        vertical-align: middle;\n",
       "    }\n",
       "\n",
       "    .dataframe tbody tr th {\n",
       "        vertical-align: top;\n",
       "    }\n",
       "\n",
       "    .dataframe thead th {\n",
       "        text-align: right;\n",
       "    }\n",
       "</style>\n",
       "<table border=\"1\" class=\"dataframe\">\n",
       "  <thead>\n",
       "    <tr style=\"text-align: right;\">\n",
       "      <th></th>\n",
       "      <th>index</th>\n",
       "      <th>attribution_str</th>\n",
       "      <th>device_class_str</th>\n",
       "      <th>domain</th>\n",
       "      <th>entity_id</th>\n",
       "      <th>friendly_name_str</th>\n",
       "      <th>state_class_str</th>\n",
       "      <th>value</th>\n",
       "    </tr>\n",
       "  </thead>\n",
       "  <tbody>\n",
       "    <tr>\n",
       "      <th>0</th>\n",
       "      <td>2022-08-15 13:40:48.661316+00:00</td>\n",
       "      <td>None</td>\n",
       "      <td>None</td>\n",
       "      <td>sensor</td>\n",
       "      <td>dew_point</td>\n",
       "      <td>dew point</td>\n",
       "      <td>None</td>\n",
       "      <td>19.98</td>\n",
       "    </tr>\n",
       "    <tr>\n",
       "      <th>1</th>\n",
       "      <td>2022-08-15 13:40:58.677919+00:00</td>\n",
       "      <td>None</td>\n",
       "      <td>temperature</td>\n",
       "      <td>sensor</td>\n",
       "      <td>processor_temperature</td>\n",
       "      <td>Processor temperature</td>\n",
       "      <td>measurement</td>\n",
       "      <td>48.00</td>\n",
       "    </tr>\n",
       "    <tr>\n",
       "      <th>2</th>\n",
       "      <td>2022-08-15 13:41:10.707851+00:00</td>\n",
       "      <td>None</td>\n",
       "      <td>None</td>\n",
       "      <td>sensor</td>\n",
       "      <td>dew_point</td>\n",
       "      <td>dew point</td>\n",
       "      <td>None</td>\n",
       "      <td>19.96</td>\n",
       "    </tr>\n",
       "    <tr>\n",
       "      <th>3</th>\n",
       "      <td>2022-08-15 13:41:28.682340+00:00</td>\n",
       "      <td>None</td>\n",
       "      <td>temperature</td>\n",
       "      <td>sensor</td>\n",
       "      <td>processor_temperature</td>\n",
       "      <td>Processor temperature</td>\n",
       "      <td>measurement</td>\n",
       "      <td>49.00</td>\n",
       "    </tr>\n",
       "    <tr>\n",
       "      <th>4</th>\n",
       "      <td>2022-08-15 13:41:34.158221+00:00</td>\n",
       "      <td>None</td>\n",
       "      <td>temperature</td>\n",
       "      <td>sensor</td>\n",
       "      <td>xiaomi_lazienka_gora_temperature</td>\n",
       "      <td>Xiaomi_Lazienka_gora Temperature</td>\n",
       "      <td>measurement</td>\n",
       "      <td>26.50</td>\n",
       "    </tr>\n",
       "    <tr>\n",
       "      <th>...</th>\n",
       "      <td>...</td>\n",
       "      <td>...</td>\n",
       "      <td>...</td>\n",
       "      <td>...</td>\n",
       "      <td>...</td>\n",
       "      <td>...</td>\n",
       "      <td>...</td>\n",
       "      <td>...</td>\n",
       "    </tr>\n",
       "    <tr>\n",
       "      <th>354986</th>\n",
       "      <td>2022-09-14 13:39:49.178349+00:00</td>\n",
       "      <td>None</td>\n",
       "      <td>temperature</td>\n",
       "      <td>sensor</td>\n",
       "      <td>processor_temperature</td>\n",
       "      <td>Processor temperature</td>\n",
       "      <td>measurement</td>\n",
       "      <td>44.00</td>\n",
       "    </tr>\n",
       "    <tr>\n",
       "      <th>354987</th>\n",
       "      <td>2022-09-14 13:40:14.843593+00:00</td>\n",
       "      <td>None</td>\n",
       "      <td>temperature</td>\n",
       "      <td>sensor</td>\n",
       "      <td>xiaomi_salon_temperature</td>\n",
       "      <td>Salon TEMP</td>\n",
       "      <td>measurement</td>\n",
       "      <td>21.20</td>\n",
       "    </tr>\n",
       "    <tr>\n",
       "      <th>354988</th>\n",
       "      <td>2022-09-14 13:40:14.845926+00:00</td>\n",
       "      <td>None</td>\n",
       "      <td>None</td>\n",
       "      <td>sensor</td>\n",
       "      <td>dew_point</td>\n",
       "      <td>dew point</td>\n",
       "      <td>None</td>\n",
       "      <td>14.64</td>\n",
       "    </tr>\n",
       "    <tr>\n",
       "      <th>354989</th>\n",
       "      <td>2022-09-14 13:40:14.891011+00:00</td>\n",
       "      <td>None</td>\n",
       "      <td>temperature</td>\n",
       "      <td>sensor</td>\n",
       "      <td>xiaomi_salon_temperature_2</td>\n",
       "      <td>Xiaomi_Salon Temperature</td>\n",
       "      <td>measurement</td>\n",
       "      <td>21.20</td>\n",
       "    </tr>\n",
       "    <tr>\n",
       "      <th>354990</th>\n",
       "      <td>2022-09-14 13:40:34.181385+00:00</td>\n",
       "      <td>None</td>\n",
       "      <td>temperature</td>\n",
       "      <td>sensor</td>\n",
       "      <td>processor_temperature</td>\n",
       "      <td>Processor temperature</td>\n",
       "      <td>measurement</td>\n",
       "      <td>43.00</td>\n",
       "    </tr>\n",
       "  </tbody>\n",
       "</table>\n",
       "<p>354991 rows × 8 columns</p>\n",
       "</div>"
      ],
      "text/plain": [
       "                                  index attribution_str device_class_str  \\\n",
       "0      2022-08-15 13:40:48.661316+00:00            None             None   \n",
       "1      2022-08-15 13:40:58.677919+00:00            None      temperature   \n",
       "2      2022-08-15 13:41:10.707851+00:00            None             None   \n",
       "3      2022-08-15 13:41:28.682340+00:00            None      temperature   \n",
       "4      2022-08-15 13:41:34.158221+00:00            None      temperature   \n",
       "...                                 ...             ...              ...   \n",
       "354986 2022-09-14 13:39:49.178349+00:00            None      temperature   \n",
       "354987 2022-09-14 13:40:14.843593+00:00            None      temperature   \n",
       "354988 2022-09-14 13:40:14.845926+00:00            None             None   \n",
       "354989 2022-09-14 13:40:14.891011+00:00            None      temperature   \n",
       "354990 2022-09-14 13:40:34.181385+00:00            None      temperature   \n",
       "\n",
       "        domain                         entity_id  \\\n",
       "0       sensor                         dew_point   \n",
       "1       sensor             processor_temperature   \n",
       "2       sensor                         dew_point   \n",
       "3       sensor             processor_temperature   \n",
       "4       sensor  xiaomi_lazienka_gora_temperature   \n",
       "...        ...                               ...   \n",
       "354986  sensor             processor_temperature   \n",
       "354987  sensor          xiaomi_salon_temperature   \n",
       "354988  sensor                         dew_point   \n",
       "354989  sensor        xiaomi_salon_temperature_2   \n",
       "354990  sensor             processor_temperature   \n",
       "\n",
       "                       friendly_name_str state_class_str  value  \n",
       "0                              dew point            None  19.98  \n",
       "1                  Processor temperature     measurement  48.00  \n",
       "2                              dew point            None  19.96  \n",
       "3                  Processor temperature     measurement  49.00  \n",
       "4       Xiaomi_Lazienka_gora Temperature     measurement  26.50  \n",
       "...                                  ...             ...    ...  \n",
       "354986             Processor temperature     measurement  44.00  \n",
       "354987                        Salon TEMP     measurement  21.20  \n",
       "354988                         dew point            None  14.64  \n",
       "354989          Xiaomi_Salon Temperature     measurement  21.20  \n",
       "354990             Processor temperature     measurement  43.00  \n",
       "\n",
       "[354991 rows x 8 columns]"
      ]
     },
     "execution_count": 8,
     "metadata": {},
     "output_type": "execute_result"
    }
   ],
   "source": [
    "results = client.query('SELECT * FROM \"°C\" WHERE time > now() - 30d AND time < now()')\n",
    "df = results['°C'].reset_index()\n",
    "df"
   ]
  },
  {
   "cell_type": "markdown",
   "id": "a6fb2194",
   "metadata": {},
   "source": [
    "### 6.3) query #3: states dla \"°C\" z ostatnich 30 dni dla wybranego sensora (np. 'airly_temperature_2')"
   ]
  },
  {
   "cell_type": "code",
   "execution_count": 9,
   "id": "1562e9a6",
   "metadata": {},
   "outputs": [
    {
     "data": {
      "text/html": [
       "<div>\n",
       "<style scoped>\n",
       "    .dataframe tbody tr th:only-of-type {\n",
       "        vertical-align: middle;\n",
       "    }\n",
       "\n",
       "    .dataframe tbody tr th {\n",
       "        vertical-align: top;\n",
       "    }\n",
       "\n",
       "    .dataframe thead th {\n",
       "        text-align: right;\n",
       "    }\n",
       "</style>\n",
       "<table border=\"1\" class=\"dataframe\">\n",
       "  <thead>\n",
       "    <tr style=\"text-align: right;\">\n",
       "      <th></th>\n",
       "      <th>index</th>\n",
       "      <th>attribution_str</th>\n",
       "      <th>device_class_str</th>\n",
       "      <th>domain</th>\n",
       "      <th>entity_id</th>\n",
       "      <th>friendly_name_str</th>\n",
       "      <th>state_class_str</th>\n",
       "      <th>value</th>\n",
       "    </tr>\n",
       "  </thead>\n",
       "  <tbody>\n",
       "    <tr>\n",
       "      <th>57</th>\n",
       "      <td>2022-08-15 13:47:20.288358+00:00</td>\n",
       "      <td>Data provided by Airly</td>\n",
       "      <td>temperature</td>\n",
       "      <td>sensor</td>\n",
       "      <td>airly_temperature_2</td>\n",
       "      <td>Airly Temperature</td>\n",
       "      <td>measurement</td>\n",
       "      <td>28.0</td>\n",
       "    </tr>\n",
       "    <tr>\n",
       "      <th>154</th>\n",
       "      <td>2022-08-15 13:57:20.304628+00:00</td>\n",
       "      <td>Data provided by Airly</td>\n",
       "      <td>temperature</td>\n",
       "      <td>sensor</td>\n",
       "      <td>airly_temperature_2</td>\n",
       "      <td>Airly Temperature</td>\n",
       "      <td>measurement</td>\n",
       "      <td>28.1</td>\n",
       "    </tr>\n",
       "    <tr>\n",
       "      <th>547</th>\n",
       "      <td>2022-08-15 14:42:20.287950+00:00</td>\n",
       "      <td>Data provided by Airly</td>\n",
       "      <td>temperature</td>\n",
       "      <td>sensor</td>\n",
       "      <td>airly_temperature_2</td>\n",
       "      <td>Airly Temperature</td>\n",
       "      <td>measurement</td>\n",
       "      <td>28.0</td>\n",
       "    </tr>\n",
       "    <tr>\n",
       "      <th>636</th>\n",
       "      <td>2022-08-15 14:52:20.291454+00:00</td>\n",
       "      <td>Data provided by Airly</td>\n",
       "      <td>temperature</td>\n",
       "      <td>sensor</td>\n",
       "      <td>airly_temperature_2</td>\n",
       "      <td>Airly Temperature</td>\n",
       "      <td>measurement</td>\n",
       "      <td>27.9</td>\n",
       "    </tr>\n",
       "    <tr>\n",
       "      <th>810</th>\n",
       "      <td>2022-08-15 15:12:20.305034+00:00</td>\n",
       "      <td>Data provided by Airly</td>\n",
       "      <td>temperature</td>\n",
       "      <td>sensor</td>\n",
       "      <td>airly_temperature_2</td>\n",
       "      <td>Airly Temperature</td>\n",
       "      <td>measurement</td>\n",
       "      <td>27.8</td>\n",
       "    </tr>\n",
       "  </tbody>\n",
       "</table>\n",
       "</div>"
      ],
      "text/plain": [
       "                               index         attribution_str device_class_str  \\\n",
       "57  2022-08-15 13:47:20.288358+00:00  Data provided by Airly      temperature   \n",
       "154 2022-08-15 13:57:20.304628+00:00  Data provided by Airly      temperature   \n",
       "547 2022-08-15 14:42:20.287950+00:00  Data provided by Airly      temperature   \n",
       "636 2022-08-15 14:52:20.291454+00:00  Data provided by Airly      temperature   \n",
       "810 2022-08-15 15:12:20.305034+00:00  Data provided by Airly      temperature   \n",
       "\n",
       "     domain            entity_id  friendly_name_str state_class_str  value  \n",
       "57   sensor  airly_temperature_2  Airly Temperature     measurement   28.0  \n",
       "154  sensor  airly_temperature_2  Airly Temperature     measurement   28.1  \n",
       "547  sensor  airly_temperature_2  Airly Temperature     measurement   28.0  \n",
       "636  sensor  airly_temperature_2  Airly Temperature     measurement   27.9  \n",
       "810  sensor  airly_temperature_2  Airly Temperature     measurement   27.8  "
      ]
     },
     "execution_count": 9,
     "metadata": {},
     "output_type": "execute_result"
    }
   ],
   "source": [
    "sensor = 'airly_temperature_2'                  # wpisujemy dowolny dla \"°C\" \n",
    "\n",
    "df_airly_temp_30 = df[df['entity_id'] == sensor ]\n",
    "df_airly_temp_30.head()"
   ]
  },
  {
   "cell_type": "markdown",
   "id": "b3e564bf",
   "metadata": {},
   "source": [
    "## 7) Nowy dataframe dla wybranego sensora - usuwamy niepotrzebne kolumny"
   ]
  },
  {
   "cell_type": "code",
   "execution_count": 10,
   "id": "d6885026",
   "metadata": {},
   "outputs": [
    {
     "data": {
      "text/html": [
       "<div>\n",
       "<style scoped>\n",
       "    .dataframe tbody tr th:only-of-type {\n",
       "        vertical-align: middle;\n",
       "    }\n",
       "\n",
       "    .dataframe tbody tr th {\n",
       "        vertical-align: top;\n",
       "    }\n",
       "\n",
       "    .dataframe thead th {\n",
       "        text-align: right;\n",
       "    }\n",
       "</style>\n",
       "<table border=\"1\" class=\"dataframe\">\n",
       "  <thead>\n",
       "    <tr style=\"text-align: right;\">\n",
       "      <th></th>\n",
       "      <th>index</th>\n",
       "      <th>value</th>\n",
       "    </tr>\n",
       "  </thead>\n",
       "  <tbody>\n",
       "    <tr>\n",
       "      <th>57</th>\n",
       "      <td>2022-08-15 13:47:20.288358+00:00</td>\n",
       "      <td>28.0</td>\n",
       "    </tr>\n",
       "    <tr>\n",
       "      <th>154</th>\n",
       "      <td>2022-08-15 13:57:20.304628+00:00</td>\n",
       "      <td>28.1</td>\n",
       "    </tr>\n",
       "    <tr>\n",
       "      <th>547</th>\n",
       "      <td>2022-08-15 14:42:20.287950+00:00</td>\n",
       "      <td>28.0</td>\n",
       "    </tr>\n",
       "    <tr>\n",
       "      <th>636</th>\n",
       "      <td>2022-08-15 14:52:20.291454+00:00</td>\n",
       "      <td>27.9</td>\n",
       "    </tr>\n",
       "    <tr>\n",
       "      <th>810</th>\n",
       "      <td>2022-08-15 15:12:20.305034+00:00</td>\n",
       "      <td>27.8</td>\n",
       "    </tr>\n",
       "  </tbody>\n",
       "</table>\n",
       "</div>"
      ],
      "text/plain": [
       "                               index  value\n",
       "57  2022-08-15 13:47:20.288358+00:00   28.0\n",
       "154 2022-08-15 13:57:20.304628+00:00   28.1\n",
       "547 2022-08-15 14:42:20.287950+00:00   28.0\n",
       "636 2022-08-15 14:52:20.291454+00:00   27.9\n",
       "810 2022-08-15 15:12:20.305034+00:00   27.8"
      ]
     },
     "execution_count": 10,
     "metadata": {},
     "output_type": "execute_result"
    }
   ],
   "source": [
    "new_df = df_airly_temp_30.drop(columns=['attribution_str', 'device_class_str', 'domain', 'entity_id', 'friendly_name_str', 'state_class_str' ])\n",
    "new_df.head()"
   ]
  },
  {
   "cell_type": "code",
   "execution_count": 11,
   "id": "c7a4f07a",
   "metadata": {},
   "outputs": [
    {
     "name": "stdout",
     "output_type": "stream",
     "text": [
      "W zebranych danych mamy : 5060  rekordów dla sensora airly_temperature_2\n"
     ]
    }
   ],
   "source": [
    "print(\"W zebranych danych mamy :\", new_df.shape[0], \" rekordów dla sensora\", sensor)"
   ]
  },
  {
   "cell_type": "markdown",
   "id": "09cde99e",
   "metadata": {},
   "source": [
    "## 8) Funkcja obliczające trend na bazie pandas.polyfit()"
   ]
  },
  {
   "cell_type": "markdown",
   "id": "2a358918",
   "metadata": {},
   "source": [
    "### 8.1) Przygotowanie osi X dla wykresu do pre"
   ]
  },
  {
   "cell_type": "code",
   "execution_count": 12,
   "id": "81e56728",
   "metadata": {},
   "outputs": [
    {
     "data": {
      "text/plain": [
       "array([   0,    1,    2, ..., 5057, 5058, 5059])"
      ]
     },
     "execution_count": 12,
     "metadata": {},
     "output_type": "execute_result"
    }
   ],
   "source": [
    "x= np.arange(new_df['index'].size)\n",
    "x"
   ]
  },
  {
   "cell_type": "markdown",
   "id": "d5023c52",
   "metadata": {},
   "source": [
    "### 8.2) Predykcja trendu (średnioterminowego dla 30 dni)"
   ]
  },
  {
   "cell_type": "code",
   "execution_count": 13,
   "id": "64cec8dc",
   "metadata": {},
   "outputs": [
    {
     "name": "stdout",
     "output_type": "stream",
     "text": [
      "m = : -0.002768421033926142\n",
      "c = : 26.07649570887349\n"
     ]
    }
   ],
   "source": [
    "#Fit function : y = mx + c [regresja liniowa ]\n",
    "\n",
    "fit = np.polyfit(x,new_df['value'], deg=1)\n",
    "print (\"m = : \" + str(fit[0]))\n",
    "print (\"c = : \" + str(fit[1]))"
   ]
  },
  {
   "cell_type": "code",
   "execution_count": 14,
   "id": "81fa0910",
   "metadata": {},
   "outputs": [
    {
     "name": "stdout",
     "output_type": "stream",
     "text": [
      "Trend malejący: -1\n"
     ]
    }
   ],
   "source": [
    "if fit[0] > 0:\n",
    "    trend = 1\n",
    "    print(\"Trend rosnący:\", trend)\n",
    "elif fit[0]:\n",
    "    trend = -1\n",
    "    print(\"Trend malejący:\", trend)"
   ]
  },
  {
   "cell_type": "markdown",
   "id": "a65d226e",
   "metadata": {},
   "source": [
    "### 8.3) Wykres linii trendu"
   ]
  },
  {
   "cell_type": "code",
   "execution_count": 15,
   "id": "cac3b043",
   "metadata": {},
   "outputs": [
    {
     "data": {
      "image/png": "[encoded data removed]",
      "text/plain": [
       "<Figure size 1440x720 with 1 Axes>"
      ]
     },
     "metadata": {
      "needs_background": "light"
     },
     "output_type": "display_data"
    }
   ],
   "source": [
    "fit_function = np.poly1d(fit)\n",
    "\n",
    "fig = plt.figure(figsize=(20,10))\n",
    "\n",
    "plt.plot(new_df['index'], fit_function(x))     \n",
    "plt.plot(new_df['index'], new_df['value'])\n",
    "\n",
    "plt.xlabel('Data')\n",
    "plt.ylabel('Sensor Values')\n",
    "plt.title('Wykres Trend')\n",
    "plt.show()"
   ]
  },
  {
   "cell_type": "markdown",
   "id": "b1732094",
   "metadata": {},
   "source": [
    "## 9) Bonus: wykorzystanie funkcji z integracji Trend z HA"
   ]
  },
  {
   "cell_type": "code",
   "execution_count": 16,
   "id": "abfb710b",
   "metadata": {},
   "outputs": [],
   "source": [
    "def calculate_gradient(X,Y):\n",
    "    \"\"\"Compute the linear trend gradient of the current samples. \"\"\"\n",
    "    timestamps = X\n",
    "    values = Y\n",
    "    coeffs = np.polyfit(timestamps, values, 1)\n",
    "    return coeffs[0]"
   ]
  },
  {
   "cell_type": "code",
   "execution_count": 17,
   "id": "08d19ad4",
   "metadata": {},
   "outputs": [],
   "source": [
    "x = x\n",
    "y = new_df['value']"
   ]
  },
  {
   "cell_type": "code",
   "execution_count": 18,
   "id": "9112afe7",
   "metadata": {},
   "outputs": [
    {
     "data": {
      "text/plain": [
       "-0.002768421033926142"
      ]
     },
     "execution_count": 18,
     "metadata": {},
     "output_type": "execute_result"
    }
   ],
   "source": [
    "calculate_gradient(x,y)"
   ]
  },
  {
   "cell_type": "markdown",
   "id": "18cfd20f",
   "metadata": {},
   "source": [
    "### 9.1) binary_sensor"
   ]
  },
  {
   "cell_type": "code",
   "execution_count": 19,
   "id": "590cdf0d",
   "metadata": {},
   "outputs": [
    {
     "name": "stdout",
     "output_type": "stream",
     "text": [
      "Trend malejący: -1\n"
     ]
    }
   ],
   "source": [
    "if calculate_gradient(x,y) > 0:\n",
    "    trend = 1\n",
    "    print(\"Trend rosnący:\", trend)\n",
    "elif calculate_gradient(x,y) < 0:\n",
    "    trend = -1\n",
    "    print(\"Trend malejący:\", trend)"
   ]
  }
 ],
 "metadata": {
  "kernelspec": {
   "display_name": "Python 3.8.10 ('ha_influxdb')",
   "language": "python",
   "name": "python3"
  },
  "language_info": {
   "codemirror_mode": {
    "name": "ipython",
    "version": 3
   },
   "file_extension": ".py",
   "mimetype": "text/x-python",
   "name": "python",
   "nbconvert_exporter": "python",
   "pygments_lexer": "ipython3",
   "version": "3.8.10"
  },
  "vscode": {
   "interpreter": {
    "hash": "7d36ac40edd99ee380e00406bcc9271d5147bb497816e76001300d5b1113f9d8"
   }
  }
 },
 "nbformat": 4,
 "nbformat_minor": 5
}
